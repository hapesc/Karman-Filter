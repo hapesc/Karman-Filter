{
 "cells": [
  {
   "cell_type": "code",
   "execution_count": 4,
   "metadata": {},
   "outputs": [],
   "source": [
    "from scipy import signal\n",
    "import numpy as np\n",
    "import matplotlib.pyplot as plt\n",
    "import pandas as pd\n",
    "import seaborn as sns"
   ]
  },
  {
   "cell_type": "code",
   "execution_count": 5,
   "metadata": {},
   "outputs": [],
   "source": [
    "#   数据预处理\n",
    "path_A='raw_data/Accelerometer.csv'\n",
    "path_G='raw_data/Gyroscope.csv'\n",
    "path_M='raw_data/Magnetometer.csv'\n",
    "path_L='raw_data/Location.csv'"
   ]
  },
  {
   "cell_type": "code",
   "execution_count": 6,
   "metadata": {},
   "outputs": [],
   "source": [
    "Data_A=pd.read_csv(path_A)\n",
    "Data_G=pd.read_csv(path_G)\n",
    "Data_M=pd.read_csv(path_M)\n",
    "Data_L=pd.read_csv(path_L)\n",
    "A=Data_A.iloc[1:,1:]\n",
    "G=Data_G.iloc[:,1:]\n",
    "M=Data_M.iloc[:,1:]\n",
    "L=Data_L.iloc[:,1:3]\n",
    "Time=Data_G.iloc[:,:1]\n",
    "A=np.array(A)\n",
    "G=np.array(G)\n",
    "M=np.array(M)\n",
    "L=np.array(L)\n",
    "Time=np.array(Time).ravel()"
   ]
  },
  {
   "cell_type": "code",
   "execution_count": null,
   "metadata": {},
   "outputs": [],
   "source": []
  }
 ],
 "metadata": {
  "interpreter": {
   "hash": "0559e510e4e62b65e464db60e72552f9c912e1991213208f845d3e84bbc29e3c"
  },
  "kernelspec": {
   "display_name": "Python 3.8.12 ('myenv')",
   "language": "python",
   "name": "python3"
  },
  "language_info": {
   "codemirror_mode": {
    "name": "ipython",
    "version": 3
   },
   "file_extension": ".py",
   "mimetype": "text/x-python",
   "name": "python",
   "nbconvert_exporter": "python",
   "pygments_lexer": "ipython3",
   "version": "3.8.12"
  },
  "orig_nbformat": 4
 },
 "nbformat": 4,
 "nbformat_minor": 2
}
