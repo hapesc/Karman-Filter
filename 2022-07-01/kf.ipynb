{
 "cells": [
  {
   "cell_type": "code",
   "execution_count": 354,
   "metadata": {
    "collapsed": true,
    "pycharm": {
     "name": "#%%\n"
    }
   },
   "outputs": [],
   "source": [
    "import numpy as np\n",
    "import pandas as pd\n",
    "import seaborn as sns\n",
    "import matplotlib.pyplot as plt\n",
    "import scipy\n",
    "from scipy import fft\n",
    "import cv2\n",
    "from matplotlib.pylab import mpl\n",
    "\n"
   ]
  },
  {
   "cell_type": "code",
   "execution_count": 355,
   "outputs": [],
   "source": [
    "#   数据预处理\n",
    "path_A='raw_data/Accelerometer.csv'\n",
    "path_G='raw_data/Gyroscope.csv'\n",
    "path_M='raw_data/Magnetometer.csv'\n",
    "path_L='raw_data/Location.csv'\n",
    "#   读取原始数据\n",
    "Data_A=pd.read_csv(path_A)\n",
    "Data_G=pd.read_csv(path_G)\n",
    "Data_M=pd.read_csv(path_M)\n",
    "Data_L=pd.read_csv(path_L)\n"
   ],
   "metadata": {
    "collapsed": false,
    "pycharm": {
     "name": "#%%\n"
    }
   }
  },
  {
   "cell_type": "code",
   "execution_count": 356,
   "outputs": [],
   "source": [
    "#   将加速度和角速度数据按时间对齐\n",
    "Data_A=np.array(Data_A.iloc[3:,1:])\n",
    "Data_G=np.array(Data_G.iloc[:-1,1:])\n",
    "Time=np.arange(0.02,216.05,0.01)\n"
   ],
   "metadata": {
    "collapsed": false,
    "pycharm": {
     "name": "#%%\n"
    }
   }
  },
  {
   "cell_type": "code",
   "execution_count": 357,
   "outputs": [],
   "source": [
    "\n",
    "def normalization(data):\n",
    "    _range = np.max(data) - np.min(data)\n",
    "    return (data - np.min(data)) / _range\n"
   ],
   "metadata": {
    "collapsed": false,
    "pycharm": {
     "name": "#%%\n"
    }
   }
  },
  {
   "cell_type": "code",
   "execution_count": 358,
   "outputs": [],
   "source": [
    "def fftPlot(data):\n",
    "    y=data\n",
    "    N=len(data)\n",
    "    n=np.arange(N)\n",
    "    half_n=n[int(N/2)]\n",
    "    fft_y=fft.fft(y)\n",
    "    abs_y=np.abs(fft_y)\n",
    "    angle_y=np.angle(fft_y)\n",
    "    normalization_y=normalization(abs_y)\n",
    "    normalization_half_y=np.abs(fft.rfft(data))\n",
    "\n",
    "#------------------plot--------------------------\n",
    "    sns.set()\n",
    "    plt.rcParams['font.sans-serif'] = ['Arial Unicode MS']   #显示中文\n",
    "    mpl.rcParams['axes.unicode_minus']=False       #显示负号\n",
    "    fs=5    #fontsize\n",
    "    plt.figure(dpi=300)\n",
    "    plt.subplot(231)\n",
    "    plt.plot(n,y)\n",
    "    plt.title('原始波形',fontsize=fs)\n",
    "\n",
    "    plt.subplot(232)\n",
    "    plt.plot(n,fft_y,'black')\n",
    "    plt.title('双边振幅谱(未求振幅绝对值)',fontsize=fs)\n",
    "\n",
    "    plt.subplot(233)\n",
    "    plt.plot(n,abs_y,'r')\n",
    "    plt.title('双边振幅谱(未归一化)',fontsize=fs)\n",
    "\n",
    "    plt.subplot(234)\n",
    "    plt.plot(n,angle_y,'violet')\n",
    "    plt.title('双边相位谱(未归一化)',fontsize=fs)\n",
    "\n",
    "    plt.subplot(235)\n",
    "    plt.plot(n,normalization_y,'g')\n",
    "    plt.title('双边振幅谱(归一化)',fontsize=fs)\n",
    "\n",
    "    plt.subplot(236)\n",
    "    plt.plot(np.arange(len(normalization_half_y)),normalization_half_y,'blue')\n",
    "    plt.title('单边振幅谱(归一化)',fontsize=fs)\n",
    "    plt.xlim((0,2500))\n",
    "    plt.ylim((0,1000))\n",
    "    plt.tight_layout()\n",
    "    plt.show()"
   ],
   "metadata": {
    "collapsed": false,
    "pycharm": {
     "name": "#%%\n"
    }
   }
  },
  {
   "cell_type": "code",
   "execution_count": 359,
   "outputs": [],
   "source": [
    "#   利用FFT降噪\n",
    "def nc_fft(data, step, threshold, plot=False):\n",
    "    n=len(data)\n",
    "    y=fft.rfft(data)\n",
    "    x=fft.rfftfreq(n,step)\n",
    "    y_abs=np.abs(y)\n",
    "    indices=y_abs>threshold\n",
    "    y_clean=indices*y\n",
    "    data_clean=fft.irfft(y_clean)\n",
    "    if plot:\n",
    "        plt.figure(dpi=500)\n",
    "        plt.plot(np.arange(len(data)),data,color='red',label='origin')\n",
    "        plt.plot(np.arange(len(data_clean)),data_clean,color='blue',label='nc')\n",
    "        plt.legend()\n",
    "        plt.show()\n",
    "    return data_clean\n"
   ],
   "metadata": {
    "collapsed": false,
    "pycharm": {
     "name": "#%%\n"
    }
   }
  },
  {
   "cell_type": "code",
   "execution_count": 360,
   "outputs": [],
   "source": [
    "#   将加速度的每个分量进行FFT降噪\n",
    "step=0.01\n",
    "threshold=5000\n",
    "a_x=Data_A[:,0]\n",
    "a_y=Data_A[:,1]\n",
    "a_z=Data_A[:,2]\n",
    "\n",
    "\n",
    "a_x_c=nc_fft(a_x,step,threshold)\n",
    "a_y_c=nc_fft(a_y,step,threshold)\n",
    "a_z_c=nc_fft(a_z,step,threshold)\n",
    "\n",
    "a_c=np.concatenate((a_x_c.reshape((-1,1)),a_y_c.reshape((-1,1)),a_z_c.reshape((-1,1))),axis=1)"
   ],
   "metadata": {
    "collapsed": false,
    "pycharm": {
     "name": "#%%\n"
    }
   }
  },
  {
   "cell_type": "code",
   "execution_count": 365,
   "outputs": [],
   "source": [
    "#   对角速度进行FFT降噪\n",
    "threshold=500\n",
    "g_x=Data_G[:,0]\n",
    "g_y=Data_G[:,1]\n",
    "g_z=Data_G[:,2]\n",
    "# fftPlot(g_x)\n",
    "# fftPlot(g_y)\n",
    "# fftPlot(g_z)\n",
    "g_x_c=nc_fft(g_x,step,threshold)\n",
    "g_y_c=nc_fft(g_y,step,threshold)\n",
    "g_z_c=nc_fft(g_z,step,threshold)\n",
    "\n",
    "g_c=np.concatenate((g_x_c.reshape((-1,1)),g_y_c.reshape((-1,1)),g_z_c.reshape((-1,1))),axis=1)"
   ],
   "metadata": {
    "collapsed": false,
    "pycharm": {
     "name": "#%%\n"
    }
   }
  }
 ],
 "metadata": {
  "kernelspec": {
   "display_name": "Python 3",
   "language": "python",
   "name": "python3"
  },
  "language_info": {
   "codemirror_mode": {
    "name": "ipython",
    "version": 2
   },
   "file_extension": ".py",
   "mimetype": "text/x-python",
   "name": "python",
   "nbconvert_exporter": "python",
   "pygments_lexer": "ipython2",
   "version": "2.7.6"
  }
 },
 "nbformat": 4,
 "nbformat_minor": 0
}